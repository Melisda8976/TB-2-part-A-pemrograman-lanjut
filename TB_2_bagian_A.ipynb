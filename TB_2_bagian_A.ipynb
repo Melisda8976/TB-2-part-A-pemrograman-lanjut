{
  "cells": [
    {
      "cell_type": "code",
      "execution_count": null,
      "metadata": {
        "colab": {
          "base_uri": "https://localhost:8080/"
        },
        "id": "8yP4dHHIhr_e",
        "outputId": "02f5f378-df4e-4804-f9b4-511d21d5a9b3"
      },
      "outputs": [
        {
          "name": "stdout",
          "output_type": "stream",
          "text": [
            "0\n",
            "1\n",
            "4\n"
          ]
        }
      ],
      "source": [
        "def hitung_kuadrat(n):\n",
        "\n",
        "  \"\"\"\n",
        "  Args:\n",
        "     n: Bilangan bulat non-negatif yang menentukan batas atas perhitungan.\n",
        "     contoh penggunaan:\n",
        "     hitung_kuadrat(3) #output: 0 1 4\n",
        "     hitung_kuadrat(5) #output: 0 1 4 9\n",
        "  \"\"\"\n",
        "  #cek apakah input n adalah bilangan bulat non negatif\n",
        "  if not isinstance(n, int) or n < 1 or n > 20:\n",
        "    raise ValueError(\"Nilai n harus bilangan bulat non-negatif antara 1 dan 20\")\n",
        "\n",
        "  #Hitung dan cetak nilai kuadrat\n",
        "  for i in range(n):\n",
        "    nilai_kuadrat = i * i\n",
        "    print(nilai_kuadrat)\n",
        "\n",
        "#contoh penggunaan\n",
        "n = 4\n",
        "hitung_kuadrat(n)\n"
      ]
    }
  ],
  "metadata": {
    "colab": {
      "provenance": []
    },
    "kernelspec": {
      "display_name": "Python 3",
      "name": "python3"
    },
    "language_info": {
      "name": "python"
    }
  },
  "nbformat": 4,
  "nbformat_minor": 0
}
